{
 "cells": [
  {
   "cell_type": "markdown",
   "metadata": {},
   "source": [
    "# Instructions\n",
    "\n",
    "You're a teaching assistant correcting student exams.\n",
    "Keeping track of results manually is getting both tedious and mistake-prone.\n",
    "You decide to make things a little more interesting by putting together some functions to count and calculate results for the class."
   ]
  },
  {
   "cell_type": "markdown",
   "metadata": {},
   "source": [
    "## 1. Rounding Scores\n",
    "\n",
    "While you can give \"partial credit\" on exam questions, overall exam scores have to be `int`s.\n",
    "So before you can do anything else with the class scores, you need to go through the grades and turn any `float` scores into `int`s. Lucky for you, Python has the built-in [`round()`][round] function you can use.\n",
    "\n",
    "Create the function `round_scores(student_scores)` that takes a `list` of `student_scores`.\n",
    "This function should _consume_ the input `list` and `return` a new list with all the scores converted to `int`s.\n",
    "The order of the scores in the resulting `list` is not important.\n",
    "\n",
    "```python\n",
    ">>> student_scores = [90.33, 40.5, 55.44, 70.05, 30.55, 25.45, 80.45, 95.3, 38.7, 40.3]\n",
    ">>> round_scores(student_scores)\n",
    "...\n",
    "[40, 39, 95, 80, 25, 31, 70, 55, 40, 90]\n",
    "```"
   ]
  },
  {
   "cell_type": "code",
   "execution_count": 13,
   "metadata": {},
   "outputs": [
    {
     "name": "stdout",
     "output_type": "stream",
     "text": [
      "[90, 40, 55, 70, 31, 25, 80, 95, 39, 40]\n",
      "[90.33, 40.5, 55.44, 70.05, 30.55, 25.45, 80.45, 95.3, 38.7, 40.3]\n"
     ]
    }
   ],
   "source": [
    "# Define `student_scores`\n",
    "student_scores = [90.33, 40.5, 55.44, 70.05, 30.55, 25.45, 80.45, 95.3, 38.7, 40.3]\n",
    "\n",
    "# Define `round_scores(list_of_floats)`\n",
    "def round_scores(student_scores):\n",
    "    # Initialize an empty list\n",
    "    rounded_scores = []\n",
    "    # Iterate over the elements of `student_scores`\n",
    "    for score in student_scores:\n",
    "        # Round each element and then append it to `rounded_scores`\n",
    "        score2 = round(score)\n",
    "        rounded_scores.append(score2)\n",
    "        # FIXME: Append the rounded score to `rounded_scores` instead of `None`\n",
    "    # Return `rounded_scores`\n",
    "    return rounded_scores\n",
    "\n",
    "# Call `round_scores()` and print the result\n",
    "print(round_scores(student_scores))\n",
    "print(student_scores)"
   ]
  },
  {
   "cell_type": "markdown",
   "metadata": {},
   "source": [
    "## 2. Non-Passing Students\n",
    "\n",
    "As you were grading the exam, you noticed some students weren't performing as well as you had hoped.\n",
    "But you were distracted, and forgot to note exactly _how many_ students.\n",
    "\n",
    "Create the function `count_failed_students(student_scores)` that takes a `list` of `student_scores`.\n",
    "This function should count up the number of students who don't have passing scores and return that count as an integer.\n",
    "A student needs a score greater than **40** to achieve a passing grade on the exam.\n",
    "\n",
    "```python\n",
    ">>> count_failed_students(student_scores=[90,40,55,70,30,25,80,95,38,40])\n",
    "5\n",
    "```"
   ]
  },
  {
   "cell_type": "code",
   "execution_count": 14,
   "metadata": {},
   "outputs": [
    {
     "name": "stdout",
     "output_type": "stream",
     "text": [
      "5\n"
     ]
    }
   ],
   "source": [
    "student_scores = [90, 40, 55, 70, 30, 25, 80, 95, 38, 40]\n",
    "# Define `round_scores(list_of_floats)`\n",
    "def count_failed_students(student_scores):\n",
    "    total_failed_students = 0\n",
    "    # Iterate over the elements of `student_scores`\n",
    "    for score in student_scores:\n",
    "      if score <=40:\n",
    "         total_failed_students = total_failed_students + 1\n",
    "    return total_failed_students\n",
    "\n",
    "print(count_failed_students(student_scores))"
   ]
  },
  {
   "cell_type": "markdown",
   "metadata": {},
   "source": [
    "## 3. The \"Best\"\n",
    "\n",
    "The teacher you're assisting wants to find the group of students who've performed \"the best\" on this exam.\n",
    "What qualifies as \"the best\" fluctuates, so you need to find the student scores that are **greater than or equal to** the current threshold.\n",
    "\n",
    "Create the function `above_threshold(student_scores)` taking `student_scores` (a `list` of grades), and `threshold` (the \"top score\" threshold) as parameters.\n",
    "This function should return a `list` of all scores that are `>=` to `threshold`.\n",
    "\n",
    "```python\n",
    ">>> above_threshold(student_scores=[90,40,55,70,30,68,70,75,83,96], threshold=75)\n",
    "[90,75,83,96]\n",
    "```"
   ]
  },
  {
   "cell_type": "code",
   "execution_count": 17,
   "metadata": {},
   "outputs": [
    {
     "name": "stdout",
     "output_type": "stream",
     "text": [
      "[90, 75, 83, 96]\n"
     ]
    }
   ],
   "source": [
    "student_scores = [90, 40, 55, 70, 30, 68, 70, 75, 83, 96]\n",
    "\n",
    "def above_threshold(student_scores,threshold=75):\n",
    "    # Initialize an empty list\n",
    "    best_students = []\n",
    "    \n",
    "    # Iterate over the elements of `student_scores`\n",
    "    for score in student_scores:\n",
    "      if score >=threshold:\n",
    "        best_students.append(score)\n",
    "    return best_students\n",
    "\n",
    "print(above_threshold(student_scores))\n",
    "    "
   ]
  },
  {
   "cell_type": "markdown",
   "metadata": {},
   "source": [
    "## 4. Calculating Letter Grades\n",
    "\n",
    "The teacher you are assisting likes to assign letter grades as well as numeric scores.\n",
    "Since students rarely score 100 on an exam, the \"letter grade\" lower thresholds are calculated based on the highest score achieved, and increment evenly between the high score and the failing threshold of **<= 40**.\n",
    "\n",
    "Create the function `letter_grades(highest)` that takes the \"highest\" score on the exam as an argument, and returns a `list` of lower score thresholds for each \"American style\" grade interval: `[\"D\", \"C\", \"B\", \"A\"]`.\n",
    "\n",
    "\n",
    "```python\n",
    "\"\"\"Where the highest score is 100, and failing is <= 40.\n",
    "       \"F\" <= 40\n",
    " 41 <= \"D\" <= 55\n",
    " 56 <= \"C\" <= 70\n",
    " 71 <= \"B\" <= 85\n",
    " 86 <= \"A\" <= 100\n",
    "\"\"\"\n",
    "\n",
    ">>> letter_grades(highest=100)\n",
    "[41, 56, 71, 86]\n",
    "\n",
    "\n",
    "\"\"\"Where the highest score is 88, and failing is <= 40.\n",
    "       \"F\" <= 40\n",
    " 41 <= \"D\" <= 52\n",
    " 53 <= \"C\" <= 64\n",
    " 65 <= \"B\" <= 76\n",
    " 77 <= \"A\" <= 88\n",
    "\"\"\"\n",
    "\n",
    ">>> letter_grades(highest=88)\n",
    "[41, 53, 65, 77]\n",
    "```\n"
   ]
  },
  {
   "cell_type": "code",
   "execution_count": 30,
   "metadata": {},
   "outputs": [
    {
     "name": "stdout",
     "output_type": "stream",
     "text": [
      "[41, 53, 65, 77]\n"
     ]
    }
   ],
   "source": [
    "def letter_grades(highest):\n",
    "    threshold_list = []\n",
    "    step_size = (highest-40)/4\n",
    "    high1 = 40 + step_size\n",
    "    high2 = 40 + 2*step_size\n",
    "    high3 = 40 + 3*step_size\n",
    "    high4 = 40 + 4*step_size\n",
    "    low1 = high1 - (step_size-1)\n",
    "    low2 = high2 - (step_size-1)\n",
    "    low3 = high3 - (step_size-1)\n",
    "    low4 = high4 - (step_size-1)\n",
    "\n",
    "    threshold_list.append(low1)\n",
    "    threshold_list.append(low2)\n",
    "    threshold_list.append(low3)\n",
    "    threshold_list.append(low4)\n",
    "    return(round_scores(threshold_list))\n",
    "\n",
    "print(letter_grades(highest=88))\n",
    "\n",
    "    \n",
    "\n",
    "\n",
    "    "
   ]
  },
  {
   "cell_type": "markdown",
   "metadata": {},
   "source": [
    "## 5. Matching Names to Scores\n",
    "\n",
    "You have a list of exam scores in descending order, and another list of student names also sorted in descending order by their exam scores.\n",
    "You would like to match each student name with their exam score and print out an overall class ranking.\n",
    "\n",
    "Create the function `student_ranking(student_scores)` with parameters `student_scores` and `student_names`.\n",
    "Match each student name on the student_names `list` with their score from the student_scores `list`.\n",
    "You can assume each argument `list` will be sorted from highest score(er) to lowest score(er).\n",
    "The function should return a `list` of strings with the format `<rank>. <student name>: <student score>`.\n",
    "\n",
    "```python\n",
    ">>> student_scores = [100, 99, 90, 84, 66, 53, 47]\n",
    ">>> student_names =  ['Joci', 'Sara','Kora','Jan','John','Bern', 'Fred']\n",
    ">>> student_ranking(student_scores, student_names)\n",
    "...\n",
    "['1. Joci: 100', '2. Sara: 99', '3. Kora: 90', '4. Jan: 84', '5. John: 66', '6. Bern: 53', '7. Fred: 47']\n",
    "```"
   ]
  },
  {
   "cell_type": "code",
   "execution_count": 42,
   "metadata": {},
   "outputs": [
    {
     "data": {
      "text/plain": [
       "['1. Joci: 100',\n",
       " '2. Sara: 99',\n",
       " '3. kora: 90',\n",
       " '4. Jan: 84',\n",
       " '5. John: 66',\n",
       " '6. Bern: 53',\n",
       " '7. Fred: 47']"
      ]
     },
     "execution_count": 42,
     "metadata": {},
     "output_type": "execute_result"
    }
   ],
   "source": [
    "student_scores = [100,99,90,84,66,53,47]\n",
    "student_names = ['Joci','Sara','kora','Jan','John','Bern','Fred']\n",
    "\n",
    "def student_ranking(student_scores,student_names):\n",
    "    outcome_list=[]\n",
    "    for i in range(len(student_scores)):\n",
    "        display = f\"{i+1}. {student_names[i]}: {student_scores[i]}\"\n",
    "        outcome_list.append(display)\n",
    "    return(outcome_list)\n",
    "\n",
    "student_ranking(student_scores,student_names)"
   ]
  },
  {
   "cell_type": "markdown",
   "metadata": {},
   "source": [
    "## 6. A \"Perfect\" Score\n",
    "\n",
    "Although a \"perfect\" score of 100 is rare on an exam, it is interesting to know if at least one student has achieved it.\n",
    "\n",
    "Create the function `perfect_score(student_info)` with parameter `student_info`.\n",
    "`student_info` is a `list` of lists containing the name and score of each student: `[[\"Charles\", 90], [\"Tony\", 80]]`.\n",
    "The function should `return` _the first_ `[<name>, <score>]` pair of the student who scored 100 on the exam.\n",
    "\n",
    "If no 100 scores are found in `student_info`, an empty list `[]` should be returned.\n",
    "\n",
    "```python\n",
    ">>> perfect_score(student_info=[[\"Charles\", 90], [\"Tony\", 80], [\"Alex\", 100]])\n",
    "[\"Alex\", 100]\n",
    "\n",
    ">>> perfect_score(student_info=[[\"Charles\", 90], [\"Tony\", 80]])\n",
    "[]\n",
    "```\n"
   ]
  },
  {
   "cell_type": "code",
   "execution_count": 71,
   "metadata": {},
   "outputs": [],
   "source": [
    "student_info=[[\"Charles\",90],[\"Tony\",80],[\"Alex\",100]]\n",
    "def perfect_score(student_info):\n",
    "    perfect_student = []\n",
    "    for i in range(len(student_info)):\n",
    "        if student_info[i][1] == 100:\n",
    "            perfect_student = student_info[i]\n",
    "    return(perfect_student)"
   ]
  },
  {
   "cell_type": "code",
   "execution_count": 72,
   "metadata": {},
   "outputs": [
    {
     "data": {
      "text/plain": [
       "['Alex', 100]"
      ]
     },
     "execution_count": 72,
     "metadata": {},
     "output_type": "execute_result"
    }
   ],
   "source": [
    "perfect_score(student_info)"
   ]
  },
  {
   "cell_type": "code",
   "execution_count": null,
   "metadata": {},
   "outputs": [],
   "source": []
  }
 ],
 "metadata": {
  "kernelspec": {
   "display_name": "Python 3",
   "language": "python",
   "name": "python3"
  },
  "language_info": {
   "codemirror_mode": {
    "name": "ipython",
    "version": 3
   },
   "file_extension": ".py",
   "mimetype": "text/x-python",
   "name": "python",
   "nbconvert_exporter": "python",
   "pygments_lexer": "ipython3",
   "version": "3.12.1"
  }
 },
 "nbformat": 4,
 "nbformat_minor": 2
}
